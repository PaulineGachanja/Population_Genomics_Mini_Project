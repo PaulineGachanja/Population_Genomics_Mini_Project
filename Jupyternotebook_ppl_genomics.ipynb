{
 "cells": [
  {
   "cell_type": "code",
   "execution_count": null,
   "id": "51a0f61b",
   "metadata": {},
   "outputs": [],
   "source": [
    "#Quality control using trim_galore\n",
    "#conda create -n trimgalore bioconda -c trimgalore\n",
    "trim_galore --illumina --paired -o fq_files file1_1.fq file1_2.fq\n",
    "\n",
    "#for many samples\n",
    "#!/bin/bash\n",
    "for i in *_1.fq.gz;\n",
    "do\n",
    "        name=${i%_*}\n",
    "        trim_galore --illumina --paired ${name}_1.fq.gz ${name}_2.fq.gz -o fq_files\n",
    "done\n",
    "\n",
    "#for manual adapters\n",
    "mkdir trimmed_files\n",
    "for i in *_1.fastq.gz;\n",
    "do\n",
    "        name=${i%_*}\n",
    "        #echo ${name}_1.fastq.gz\n",
    "        trim_galore --paired \\\n",
    "        -a 'AGATCGGAAGAGCACACGTCTGAACTCCAGTCA' -a2 'AGATCGGAAGAGCGTCGTGTAGGGAAAGAGTGT' -o ../trimmed_files ${name}_1.fastq.gz ${name}_2.fastq.gz\n",
    "done\n"
   ]
  },
  {
   "cell_type": "code",
   "execution_count": null,
   "id": "8d59762b",
   "metadata": {},
   "outputs": [],
   "source": []
  },
  {
   "cell_type": "code",
   "execution_count": null,
   "id": "15ef0e82",
   "metadata": {},
   "outputs": [],
   "source": [
    "#Mapping/alignment \n",
    "conda install -c bioconda bwa using BWA\n",
    "\n",
    "#indexing the reference genome\n",
    "bwa index GCA_021130815.1_PanTigT.MC.v3_genomic.fna\n",
    "\n",
    "#alignment\n",
    "#!/bin/bash\n",
    "for i in *trimmed_files;\n",
    "do\n",
    "    name=${i%_*}\n",
    "    bwa mem ref.fna ${name}_1 ${name}_2 > sam.files\n",
    "done\n",
    "\n"
   ]
  },
  {
   "cell_type": "code",
   "execution_count": null,
   "id": "c7e04919",
   "metadata": {},
   "outputs": [],
   "source": [
    "#Removing duplicates\n",
    "#!/bin/bash\n",
    "for i in *_sorted.bam;\n",
    "do\n",
    "        name=${i%_*}\n",
    "        #echo ${name}_sorted.bam\n",
    "        #echo ${name}_rmdup.bam\n",
    "        samtools rmdup ${name}_sorted.bam  ${name}_rmdup.bam\n",
    "done\n",
    "\n"
   ]
  },
  {
   "cell_type": "code",
   "execution_count": null,
   "id": "66333b79",
   "metadata": {},
   "outputs": [],
   "source": [
    "#sorting\n",
    "for i in *sam.files;\n",
    "do\n",
    "    name=${i%_*}]\n",
    "    samtools view -q 30 -u ${name}.sam | samtools sort -0 ${name}_sorted.bam\n",
    "done"
   ]
  },
  {
   "cell_type": "code",
   "execution_count": null,
   "id": "7508acfc",
   "metadata": {},
   "outputs": [],
   "source": [
    "#variant calling \n",
    "#indexing the reference genome\n",
    "samtools faidx GCA_021130815.1_PanTigT.MC.v3_genomic.fna\n",
    "#indexing the bam files\n",
    "samtools index ${name}_rmdup.bam\n",
    "\n",
    "#variant calling using strelka\n",
    "\n",
    "wget https://github.com/Illumina/strelka/releases/download/v2.9.10/strelka-2.9.10.centos6_x86_64.tar.bz2\n",
    "tar -xvzf strelka*\n",
    "tar -xvjf strelka*\n",
    "bash strelka-2.9.2.centos6_x86_64/bin/runStrelkaSomaticWorkflowDemo.bash\n",
    " mv strelka-2.9.10.centos6_x86_64 strelka\n",
    "rm strelka*.bz2\n",
    "cd strelka\n",
    "bash ./bin/runStrelkaSomaticWorkflowDemo.bash\n",
    "conda create -n strelka python=2.7\n",
    "conda activate strelka\n",
    "ls bin\n",
    "bash ./bin/runStrelkaGermlineWorkflowDemo.bash\n",
    "rm -rf strelkaGermlineDemoAnalysis\n",
    "    \n",
    "nano configure_strelka.sh\n",
    "    configureStrelkaGermlineWorkflow.py \\\n",
    "    --bam BEN_NW10_rmdup.bam \\\n",
    "    --bam BEN_NW12_rmdup.bam \\\n",
    "    --bam BEN_SI9_rmdup.bam \\\n",
    "    --bam BEN_SI18_rmdup.bam \\\n",
    "    --bam BEN_NW13_rmdup.bam \\\n",
    "    --bam BEN_SI19_rmdup.bam \\\n",
    "    --bam BEN_CI18_rmdup.bam \\\n",
    "    --bam BEN_CI16_rmdup.bam \\\n",
    "    --referenceFasta /home/osboxes/GCA_021130815.1_PanTigT.MC.v3_genomic.fna \\\n",
    "    --runDir .\n",
    "python runWorkflow.py\n"
   ]
  },
  {
   "cell_type": "code",
   "execution_count": null,
   "id": "367107ea",
   "metadata": {},
   "outputs": [],
   "source": [
    "#SNPs filtering\n",
    "#Filtering the SNPS to remove indels, minimum genotype quality 20, minimum quality 20, remove NOT PASS, minor allelic count 3,\n",
    "#HWE 0.05,  \n",
    "vcftools --gzvcf wg_dhole_parallel_va_Chr0.recode.vcf.gz --remove-indels --minQ 20 --minGQ 20 --remove-filtered-all /\n",
    "--mac 3 --hwe 0.05 --recode --out wg_variants.filtered1\n",
    "\n",
    "#filter based on loci missing in 80%, 70%, 60%, 50,40 and 30% individual\n",
    "vcftools --vcf --max-missing 0.6 --out 60%_wg_variants.filtered1.recode.vcf.recode.vcf\n"
   ]
  },
  {
   "cell_type": "code",
   "execution_count": null,
   "id": "56775b16",
   "metadata": {},
   "outputs": [],
   "source": [
    "#Genetic Diversity\n",
    "#heterozigosity\n",
    "vcftools --vcf 60%_wg_variants.filtered1.recode.vcf.recode.vcf --het --out het_60%_variants.filtered1.recode.vcf\n",
    "\n",
    "#CALCULATING het from o(hom) and N_sites\n",
    "less het_60%_variants.filtered1.recode.vcf.het | grep -v \"INDV\" | awk '{print $1 \"\\t\"(($4-$2)*1000000/120912629)}' | less\n",
    "\n",
    "#calculating pairwise nucleotide diversity\n",
    "Create different files for different populations and add individuals in that population\n",
    "\n",
    "vcftools --vcf 60%_wg_variants.filtered1.recode.vcf.recode.vcf --keep pop1.indv --site-pi --out /\n",
    "60%_wg_variants.filtered1.recode.vcf.pop1.indv1\n",
    "\n",
    "\n"
   ]
  },
  {
   "cell_type": "code",
   "execution_count": null,
   "id": "d0fd6162",
   "metadata": {},
   "outputs": [],
   "source": [
    "#Population Structure\n",
    "vcftools --vcf 60%_wg_variants.filtered1.recode.vcf.recode.vcf.genome --plink --out wg_dhole_paralle\n",
    "\n",
    "plink --file 60%_wg_variants.filtered1.recode.vcf.recode.vcf.genome --make-bed --out 60%_wg_variants.filtered1.recode.vcf.recode.vcf.genome\n",
    "\n",
    "#Genetic relatedness\n",
    "\n",
    "plink --vcf 60%_wg_variants.filtered1.recode.vcf.recode.vcf --genome --out 60%_wg_variants.filtered1.recode.vcf.recode.vcf --double-id --allow-extra-chr\n",
    "less -S 60%_wg_variants.filtered1.recode.vcf.recode.vcf.genome | awk '{print $1\"\\t\"$3\"\\t\"$10}' | sort -k 3 | grep -v \"cuonTH3\" | less\n",
    "\n",
    "#PCA\n",
    "plink --vcf 60%_wg_variants.filtered1.recode.vcf.recode.vcf --pca --out pca_output\n",
    "\n",
    "#admixture\n",
    "conda activate admixture\n",
    "\n",
    "admixture  2\n",
    "\n",
    "for K in {1..5}; do admixture --cv wg_dhole_parallel_va_Chr0_minQ20_minGQ20_rmvIndel0_minQ20_minGQ20_rmvIndels_PASSonly_mac3_hwe0.05_mm0.6.bed ${K} | tee log${K}.out; done\n"
   ]
  },
  {
   "cell_type": "code",
   "execution_count": null,
   "id": "c324afa6",
   "metadata": {},
   "outputs": [],
   "source": [
    "#Functional  diversity\n",
    "conda create -n VEP -c bioconda ensembl-vep\n",
    "gunzip Tiger_GNE.aed.0.6.gff.gz\n",
    "grep -v \"#\" Tiger_GNE.aed.0.6.gff | sort -k1,1 -k4,4n -k5,5n -t$'\\t' | bgzip -c > Tiger_GNE.aed.0.6.VEP.gff.gz\n",
    "#index the gff \n",
    "tabix -p gff Tiger_GNE.aed.0.6.VEP.gff.gz\n",
    "\n",
    "#replace the chromosomes names in the gff file to match the annotation file\n",
    "sed -i 's/A1/CM037648.1/g;s/A2/CM037649.1/g; s/A3/CM037650.1/g; s/B1/CM037651.1/g; s/B2/CM037652.1/g; s/B3/CM037653.1/g; s/B4/CM037654.1/g; s/C1/CM037655.1/g; s/C2/CM037656.1/g; s/D1/CM037657.1/g; s/D2/CM037658.1/g; s/D3/CM037659.1/g; s/D4/CM037660.1/g; s/E1/CM037661.1/g; s/E2/CM037662.1/g; s/E3/CM037663.1/g; s/F1/CM037664.1/g; s/F2/CM037665.1/g' Tiger_GNE.aed.0.6.gff\n",
    "conda activate VEP\n",
    "vep -i variants_minQ30_rmvIndels_PASSonly.recode.vcf --format vcf -o variants_minQ20_rmvIndels_PASSonly.vep --gff Tiger_GNE.aed.0.6.VEP.gff.gz --fasta GCA_021130815.1_PanTigT.MC.v3_genomic.fna --variant class"
   ]
  },
  {
   "cell_type": "code",
   "execution_count": null,
   "id": "7dadd94e",
   "metadata": {},
   "outputs": [],
   "source": [
    "#Linkage disequilibrium\n",
    "#Calculating LD for each population(1..4)\n",
    "vcftools --vcf 60%_wg_variants.filtered1.recode.vcf.recode.vcf --keep pop1.indv --out 60%_wg_variants.filtered1.recode.vcf_pop1.indv1 \\--recode\n",
    "plink --vcf 60%_wg_variants.filtered1.recode.vcf_pop1.indv1.recode.vcf --r2 --out 60%_wg_variants.filtered1.recode.vcf_pop1.indv1.recode.vcf --allow-extra-chr\n",
    "less  60%_wg_variants.filtered1.recode.vcf_pop1.indv1.recode.vcf.ld\n",
    "\n",
    "conda create -n py2 python=2.7 anaconda\n",
    "conda activate py2\n",
    "gzip 60%_wg_variants.filtered1.recode.vcf_pop1.indv1.recode.vcf.ld\n",
    "python ld_decay_calc.py -i 60%_wg_variants.filtered1.recode.vcf_pop1.indv1.recode.vcf.ld.gz -o 60%_wg_variants.filtered1.recode.vcf_pop1.indv1.recode.vcf.Id.decay\n",
    "less 60%_wg_variants.filtered1.recode.vcf_pop1.indv1.recode.vcf.Id.decay.ld_decay\n",
    "# plot the LD decay plot"
   ]
  }
 ],
 "metadata": {
  "kernelspec": {
   "display_name": "Python 3 (ipykernel)",
   "language": "python",
   "name": "python3"
  },
  "language_info": {
   "codemirror_mode": {
    "name": "ipython",
    "version": 3
   },
   "file_extension": ".py",
   "mimetype": "text/x-python",
   "name": "python",
   "nbconvert_exporter": "python",
   "pygments_lexer": "ipython3",
   "version": "3.10.12"
  }
 },
 "nbformat": 4,
 "nbformat_minor": 5
}
